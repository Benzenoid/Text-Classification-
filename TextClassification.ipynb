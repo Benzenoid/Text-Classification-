{
  "nbformat": 4,
  "nbformat_minor": 0,
  "metadata": {
    "colab": {
      "provenance": [],
      "gpuType": "T4"
    },
    "kernelspec": {
      "name": "python3",
      "display_name": "Python 3"
    },
    "language_info": {
      "name": "python"
    },
    "accelerator": "GPU"
  },
  "cells": [
    {
      "cell_type": "code",
      "execution_count": 1,
      "metadata": {
        "id": "mujXRljwXfqe"
      },
      "outputs": [],
      "source": [
        "import numpy as np\n",
        "import pandas as pd\n",
        "import matplotlib.pyplot as plt\n",
        "\n",
        "import tensorflow as tf\n",
        "import tensorflow_hub as hub"
      ]
    },
    {
      "cell_type": "code",
      "source": [
        "df = pd.read_csv(\"wine-reviews.csv\",usecols = ['country','description','points','price','variety','winery'])"
      ],
      "metadata": {
        "id": "dfZczUtOXxpb"
      },
      "execution_count": 3,
      "outputs": []
    },
    {
      "cell_type": "code",
      "source": [
        "df = df.dropna(subset = [\"description\",\"points\"])"
      ],
      "metadata": {
        "id": "Y-lA-sFmgFDZ"
      },
      "execution_count": 4,
      "outputs": []
    },
    {
      "cell_type": "code",
      "source": [
        "plt.hist(df.points, bins=20)\n",
        "plt.title(\"Points histogram\")\n",
        "plt.ylabel(\"N\")\n",
        "plt.xlabel(\"Points\")\n",
        "plt.show()"
      ],
      "metadata": {
        "colab": {
          "base_uri": "https://localhost:8080/",
          "height": 472
        },
        "id": "bZzrIE1Uks1a",
        "outputId": "dafe95e2-defa-4551-8540-696cd2966ba7"
      },
      "execution_count": 5,
      "outputs": [
        {
          "output_type": "display_data",
          "data": {
            "text/plain": [
              "<Figure size 640x480 with 1 Axes>"
            ],
            "image/png": "[encoded data removed]"
          },
          "metadata": {}
        }
      ]
    },
    {
      "cell_type": "code",
      "source": [
        "df[\"label\"] = (df.points >= 90).astype(int)\n",
        "df = df[[\"description\",\"points\",\"label\"]]"
      ],
      "metadata": {
        "id": "YicpvQLbl5Qs"
      },
      "execution_count": 6,
      "outputs": []
    },
    {
      "cell_type": "code",
      "source": [
        "train, val , test = np.split(df.sample(frac=1),[int(0.8*len(df)),int(0.9*len(df))])"
      ],
      "metadata": {
        "id": "H5AoJAbGFvXB"
      },
      "execution_count": 7,
      "outputs": []
    },
    {
      "cell_type": "code",
      "source": [
        "len(train),len(val),len(test)"
      ],
      "metadata": {
        "id": "nXo_VyC5G3KI",
        "colab": {
          "base_uri": "https://localhost:8080/"
        },
        "outputId": "29642b53-8ac9-4ef7-e916-9f4bbb20d3be"
      },
      "execution_count": 8,
      "outputs": [
        {
          "output_type": "execute_result",
          "data": {
            "text/plain": [
              "(6268, 783, 784)"
            ]
          },
          "metadata": {},
          "execution_count": 8
        }
      ]
    },
    {
      "cell_type": "code",
      "source": [
        "\n",
        "def df_to_dataset(dataframe, shuffle=True, batch_size=1024):\n",
        "  df = dataframe.copy()\n",
        "  labels = df.pop('label')\n",
        "  df =df['description']\n",
        "  ds = tf.data.Dataset.from_tensor_slices((df, labels))\n",
        "  if shuffle:\n",
        "    ds = ds.shuffle(buffer_size=len(dataframe))\n",
        "  ds = ds.batch(batch_size)\n",
        "  ds = ds.prefetch(tf.data.AUTOTUNE)\n",
        "  return ds"
      ],
      "metadata": {
        "id": "IXmiJnlWHAV2"
      },
      "execution_count": 10,
      "outputs": []
    },
    {
      "cell_type": "code",
      "source": [
        "train_ds = df_to_dataset(train)\n",
        "val_ds = df_to_dataset(val)\n",
        "test_ds = df_to_dataset(test)"
      ],
      "metadata": {
        "id": "xJmags0AMi3M"
      },
      "execution_count": 11,
      "outputs": []
    },
    {
      "cell_type": "markdown",
      "source": [
        "### **MODEL**"
      ],
      "metadata": {
        "id": "xf66EYdaZxQp"
      }
    },
    {
      "cell_type": "code",
      "source": [
        "embedding = \"https://tfhub.dev/google/nnlm-en-dim50/2\"\n",
        "hub_layer = hub.KerasLayer(embedding, dtype=tf.string, trainable=True)"
      ],
      "metadata": {
        "id": "QmZECVGZNzW5"
      },
      "execution_count": 12,
      "outputs": []
    },
    {
      "cell_type": "code",
      "source": [
        "hub_layer(list(train_ds)[0][0])"
      ],
      "metadata": {
        "colab": {
          "base_uri": "https://localhost:8080/"
        },
        "id": "GtvjsPg2PSX8",
        "outputId": "7ec07996-2ea1-4164-fde4-c9dcd3733d85"
      },
      "execution_count": 13,
      "outputs": [
        {
          "output_type": "execute_result",
          "data": {
            "text/plain": [
              "<tf.Tensor: shape=(1024, 50), dtype=float32, numpy=\n",
              "array([[ 0.74076474, -0.06311584,  0.1445508 , ...,  0.19295345,\n",
              "        -0.26412842, -0.02629015],\n",
              "       [ 0.481764  , -0.29091865, -0.02205079, ..., -0.19294989,\n",
              "        -0.04120614,  0.04861473],\n",
              "       [ 0.54448825, -0.20580669, -0.03978067, ..., -0.11828478,\n",
              "        -0.14114922, -0.10233623],\n",
              "       ...,\n",
              "       [ 0.5851388 , -0.00204691,  0.08901027, ...,  0.08892034,\n",
              "        -0.24256447, -0.01585101],\n",
              "       [ 0.61819804, -0.28913215,  0.09095501, ...,  0.06049402,\n",
              "        -0.03653632, -0.08115415],\n",
              "       [ 0.66201025, -0.38066202, -0.19453491, ..., -0.08092253,\n",
              "         0.05130054, -0.00870172]], dtype=float32)>"
            ]
          },
          "metadata": {},
          "execution_count": 13
        }
      ]
    },
    {
      "cell_type": "code",
      "source": [
        "model = tf.keras.Sequential()\n",
        "model.add(hub_layer)\n",
        "model.add(tf.keras.layers.Dense(16, activation='relu'))\n",
        "#dropouts are added to overcome the overfitting of the data it sets the inputs to 0 randomly\n",
        "model.add(tf.keras.layers.Dropout(0.4))\n",
        "model.add(tf.keras.layers.Dense(16, activation='relu'))\n",
        "model.add(tf.keras.layers.Dropout(0.4))\n",
        "model.add(tf.keras.layers.Dense(1, activation='sigmoid'))"
      ],
      "metadata": {
        "id": "9q2zch4LPYOn"
      },
      "execution_count": 15,
      "outputs": []
    },
    {
      "cell_type": "code",
      "source": [
        "model.compile(optimizer=tf.keras.optimizers.Adam(learning_rate = 0.001),\n",
        "              loss='binary_crossentropy',\n",
        "              metrics=['accuracy'])"
      ],
      "metadata": {
        "id": "d5SW9-aiPw_G"
      },
      "execution_count": 16,
      "outputs": []
    },
    {
      "cell_type": "code",
      "source": [
        "model.evaluate(train_ds)"
      ],
      "metadata": {
        "colab": {
          "base_uri": "https://localhost:8080/"
        },
        "id": "nf1JQDO0QCA_",
        "outputId": "230661a5-1388-449a-a61c-b0aeaf10c7d8"
      },
      "execution_count": 17,
      "outputs": [
        {
          "output_type": "stream",
          "name": "stdout",
          "text": [
            "7/7 [==============================] - 1s 9ms/step - loss: 0.6846 - accuracy: 0.5946\n"
          ]
        },
        {
          "output_type": "execute_result",
          "data": {
            "text/plain": [
              "[0.6845779418945312, 0.5946075320243835]"
            ]
          },
          "metadata": {},
          "execution_count": 17
        }
      ]
    },
    {
      "cell_type": "code",
      "source": [
        "model.evaluate(val_ds)"
      ],
      "metadata": {
        "colab": {
          "base_uri": "https://localhost:8080/"
        },
        "id": "tCmrX6NwQm2D",
        "outputId": "777d4875-653e-4bc2-d02b-689cf1be3825"
      },
      "execution_count": 20,
      "outputs": [
        {
          "output_type": "stream",
          "name": "stdout",
          "text": [
            "1/1 [==============================] - 0s 28ms/step - loss: 0.6843 - accuracy: 0.5862\n"
          ]
        },
        {
          "output_type": "execute_result",
          "data": {
            "text/plain": [
              "[0.6843154430389404, 0.5862069129943848]"
            ]
          },
          "metadata": {},
          "execution_count": 20
        }
      ]
    },
    {
      "cell_type": "code",
      "source": [
        "history = model.fit(train_ds,\n",
        "                    epochs=10,\n",
        "                    validation_data=val_ds)"
      ],
      "metadata": {
        "colab": {
          "base_uri": "https://localhost:8080/"
        },
        "id": "wRWVkgiBQpuB",
        "outputId": "99fc770a-ee4b-4081-c4b2-422dfacf2439"
      },
      "execution_count": 23,
      "outputs": [
        {
          "output_type": "stream",
          "name": "stdout",
          "text": [
            "Epoch 1/10\n",
            "7/7 [==============================] - 1s 198ms/step - loss: 0.5368 - accuracy: 0.7379 - val_loss: 0.5475 - val_accuracy: 0.7369\n",
            "Epoch 2/10\n",
            "7/7 [==============================] - 1s 161ms/step - loss: 0.5187 - accuracy: 0.7549 - val_loss: 0.5347 - val_accuracy: 0.7382\n",
            "Epoch 3/10\n",
            "7/7 [==============================] - 1s 158ms/step - loss: 0.5009 - accuracy: 0.7725 - val_loss: 0.5237 - val_accuracy: 0.7420\n",
            "Epoch 4/10\n",
            "7/7 [==============================] - 1s 159ms/step - loss: 0.4841 - accuracy: 0.7889 - val_loss: 0.5119 - val_accuracy: 0.7561\n",
            "Epoch 5/10\n",
            "7/7 [==============================] - 1s 159ms/step - loss: 0.4585 - accuracy: 0.8003 - val_loss: 0.5010 - val_accuracy: 0.7522\n",
            "Epoch 6/10\n",
            "7/7 [==============================] - 1s 186ms/step - loss: 0.4403 - accuracy: 0.8133 - val_loss: 0.4944 - val_accuracy: 0.7548\n",
            "Epoch 7/10\n",
            "7/7 [==============================] - 1s 162ms/step - loss: 0.4222 - accuracy: 0.8250 - val_loss: 0.4904 - val_accuracy: 0.7561\n",
            "Epoch 8/10\n",
            "7/7 [==============================] - 1s 136ms/step - loss: 0.3988 - accuracy: 0.8400 - val_loss: 0.4773 - val_accuracy: 0.7548\n",
            "Epoch 9/10\n",
            "7/7 [==============================] - 1s 107ms/step - loss: 0.3781 - accuracy: 0.8519 - val_loss: 0.4731 - val_accuracy: 0.7573\n",
            "Epoch 10/10\n",
            "7/7 [==============================] - 1s 106ms/step - loss: 0.3520 - accuracy: 0.8692 - val_loss: 0.4722 - val_accuracy: 0.7599\n"
          ]
        }
      ]
    },
    {
      "cell_type": "code",
      "source": [
        "model.evaluate(test_ds)"
      ],
      "metadata": {
        "colab": {
          "base_uri": "https://localhost:8080/"
        },
        "id": "wSiwdyphQypX",
        "outputId": "39d46817-2ee8-41d0-e047-92893f89332b"
      },
      "execution_count": 24,
      "outputs": [
        {
          "output_type": "stream",
          "name": "stdout",
          "text": [
            "1/1 [==============================] - 0s 25ms/step - loss: 0.4794 - accuracy: 0.7589\n"
          ]
        },
        {
          "output_type": "execute_result",
          "data": {
            "text/plain": [
              "[0.47942227125167847, 0.7589285969734192]"
            ]
          },
          "metadata": {},
          "execution_count": 24
        }
      ]
    },
    {
      "cell_type": "markdown",
      "source": [
        "### LSTM"
      ],
      "metadata": {
        "id": "RIBxekIBcPuw"
      }
    },
    {
      "cell_type": "code",
      "source": [
        "encoder = tf.keras.layers.TextVectorization(max_tokens=2000)\n",
        "encoder.adapt(train_ds.map(lambda text, label: text))"
      ],
      "metadata": {
        "id": "7btMvrL2cMe5"
      },
      "execution_count": 27,
      "outputs": []
    },
    {
      "cell_type": "code",
      "source": [
        "vocab = np.array(encoder.get_vocabulary())\n",
        "vocab[:20]"
      ],
      "metadata": {
        "colab": {
          "base_uri": "https://localhost:8080/"
        },
        "id": "GaFfmtyncmMl",
        "outputId": "df3e00c0-e9ca-4068-a46c-4c2dbdc35ec3"
      },
      "execution_count": 28,
      "outputs": [
        {
          "output_type": "execute_result",
          "data": {
            "text/plain": [
              "array(['', '[UNK]', 'and', 'the', 'a', 'of', 'with', 'this', 'is', 'wine',\n",
              "       'flavors', 'in', 'it', 'to', 'its', 'fruit', 'on', 'aromas',\n",
              "       'palate', 'that'], dtype='<U17')"
            ]
          },
          "metadata": {},
          "execution_count": 28
        }
      ]
    },
    {
      "cell_type": "code",
      "source": [
        "model = tf.keras.Sequential([\n",
        "    encoder,\n",
        "    tf.keras.layers.Embedding(\n",
        "        input_dim=len(encoder.get_vocabulary()),\n",
        "        output_dim=32,\n",
        "        mask_zero=True\n",
        "    ),\n",
        "    tf.keras.layers.LSTM(32),\n",
        "    tf.keras.layers.Dense(32, activation='relu'),\n",
        "    tf.keras.layers.Dropout(0.4),\n",
        "    tf.keras.layers.Dense(1, activation='sigmoid')\n",
        "])"
      ],
      "metadata": {
        "id": "cUJrFzmZcT0W"
      },
      "execution_count": 29,
      "outputs": []
    },
    {
      "cell_type": "code",
      "source": [
        "model.compile(optimizer=tf.keras.optimizers.Adam(learning_rate=0.001),\n",
        "              loss=tf.keras.losses.BinaryCrossentropy(),\n",
        "              metrics=['accuracy'])"
      ],
      "metadata": {
        "id": "kbanu4XdfBJm"
      },
      "execution_count": 30,
      "outputs": []
    },
    {
      "cell_type": "code",
      "source": [
        "model.evaluate(train_ds)\n",
        "model.evaluate(val_ds)"
      ],
      "metadata": {
        "colab": {
          "base_uri": "https://localhost:8080/"
        },
        "id": "95_lCDmqfC2u",
        "outputId": "0968f30a-beb7-43cf-a4d6-877af1769424"
      },
      "execution_count": 33,
      "outputs": [
        {
          "output_type": "stream",
          "name": "stdout",
          "text": [
            "7/7 [==============================] - 0s 16ms/step - loss: 0.6920 - accuracy: 0.6114\n",
            "1/1 [==============================] - 0s 25ms/step - loss: 0.6920 - accuracy: 0.6398\n"
          ]
        },
        {
          "output_type": "execute_result",
          "data": {
            "text/plain": [
              "[0.691997766494751, 0.6398467421531677]"
            ]
          },
          "metadata": {},
          "execution_count": 33
        }
      ]
    },
    {
      "cell_type": "code",
      "source": [
        "history = model.fit(train_ds, epochs=5, validation_data=val_ds)\n"
      ],
      "metadata": {
        "colab": {
          "base_uri": "https://localhost:8080/"
        },
        "id": "E3ba7XpjfEDl",
        "outputId": "2d1ac100-204e-4413-a3c9-5beebb5597bd"
      },
      "execution_count": 37,
      "outputs": [
        {
          "output_type": "stream",
          "name": "stdout",
          "text": [
            "Epoch 1/5\n",
            "7/7 [==============================] - 1s 83ms/step - loss: 0.5847 - accuracy: 0.6677 - val_loss: 0.5858 - val_accuracy: 0.6654\n",
            "Epoch 2/5\n",
            "7/7 [==============================] - 1s 130ms/step - loss: 0.5451 - accuracy: 0.6980 - val_loss: 0.5432 - val_accuracy: 0.7063\n",
            "Epoch 3/5\n",
            "7/7 [==============================] - 1s 108ms/step - loss: 0.4907 - accuracy: 0.7593 - val_loss: 0.5206 - val_accuracy: 0.7318\n",
            "Epoch 4/5\n",
            "7/7 [==============================] - 1s 85ms/step - loss: 0.4748 - accuracy: 0.7936 - val_loss: 0.4860 - val_accuracy: 0.7599\n",
            "Epoch 5/5\n",
            "7/7 [==============================] - 1s 80ms/step - loss: 0.4406 - accuracy: 0.8151 - val_loss: 0.5162 - val_accuracy: 0.7522\n"
          ]
        }
      ]
    },
    {
      "cell_type": "code",
      "source": [
        "model.evaluate(test_ds)"
      ],
      "metadata": {
        "colab": {
          "base_uri": "https://localhost:8080/"
        },
        "id": "gJib38I4fSln",
        "outputId": "c5449332-b1de-4ae9-880e-a13c73f3ffbc"
      },
      "execution_count": 38,
      "outputs": [
        {
          "output_type": "stream",
          "name": "stdout",
          "text": [
            "1/1 [==============================] - 0s 41ms/step - loss: 0.4987 - accuracy: 0.7691\n"
          ]
        },
        {
          "output_type": "execute_result",
          "data": {
            "text/plain": [
              "[0.4987388849258423, 0.769132673740387]"
            ]
          },
          "metadata": {},
          "execution_count": 38
        }
      ]
    },
    {
      "cell_type": "code",
      "source": [],
      "metadata": {
        "id": "1gEaUQ6jfVr_"
      },
      "execution_count": null,
      "outputs": []
    }
  ]
}